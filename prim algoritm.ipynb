{
 "cells": [
  {
   "cell_type": "code",
   "execution_count": 13,
   "id": "bdbea0c5",
   "metadata": {},
   "outputs": [
    {
     "name": "stdout",
     "output_type": "stream",
     "text": [
      "Qirra : Uzunlik\n",
      "\n",
      "0-1   : 9\n",
      "1-3   : 19\n",
      "3-4   : 31\n",
      "3-2   : 51\n",
      "Umumiy masofa:  377\n"
     ]
    }
   ],
   "source": [
    "#Prim Algorithm\n",
    "\n",
    "max = 9999999\n",
    "\n",
    "M = [[0, 9, 75, 0, 0],\n",
    "     [9, 0, 95, 19, 42],\n",
    "     [75, 95, 0, 51, 66],\n",
    "     [0, 19, 51, 0, 31],\n",
    "     [0, 42, 66, 31, 0]]\n",
    "\n",
    "s = [0, 0, 0, 0, 0]\n",
    "k=0\n",
    "n = 0\n",
    "s[0] = True\n",
    "print(\"Qirra : Uzunlik\\n\")\n",
    "while (n < 4):\n",
    "    min = max\n",
    "    x = 0\n",
    "    y = 0\n",
    "    for i in range(5):\n",
    "        if s[i]:\n",
    "            for j in range(5):\n",
    "                if ((not s[j]) and M[i][j]):  \n",
    "                    if min > M[i][j]:\n",
    "                        min = M[i][j]\n",
    "                        x = i\n",
    "                        y = j\n",
    "                        k+=M[i][j]                    \n",
    "    print(str(x) + \"-\" + str(y) + \"   : \" + str(M[x][y]))\n",
    "    s[y] = True\n",
    "    n += 1\n",
    "print(\"Umumiy masofa: \",k)"
   ]
  }
 ],
 "metadata": {
  "kernelspec": {
   "display_name": "Python 3 (ipykernel)",
   "language": "python",
   "name": "python3"
  },
  "language_info": {
   "codemirror_mode": {
    "name": "ipython",
    "version": 3
   },
   "file_extension": ".py",
   "mimetype": "text/x-python",
   "name": "python",
   "nbconvert_exporter": "python",
   "pygments_lexer": "ipython3",
   "version": "3.9.0"
  }
 },
 "nbformat": 4,
 "nbformat_minor": 5
}
